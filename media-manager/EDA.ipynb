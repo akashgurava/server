{
 "cells": [
  {
   "cell_type": "code",
   "execution_count": 1,
   "id": "44a8e70a-8afd-4564-999d-4027071a709a",
   "metadata": {},
   "outputs": [],
   "source": [
    "from pathlib import Path\n",
    "\n",
    "import mutagen\n",
    "\n",
    "from media_manager import TidalClient"
   ]
  },
  {
   "cell_type": "code",
   "execution_count": 4,
   "id": "eb761e39-48fd-453d-a956-58202658aea2",
   "metadata": {},
   "outputs": [],
   "source": [
    "tidal_client = TidalClient(Path(\"tidal-session-oauth.json\"))"
   ]
  },
  {
   "cell_type": "code",
   "execution_count": 5,
   "id": "f2596b25-5900-4935-bf7e-b71a66164eff",
   "metadata": {},
   "outputs": [],
   "source": [
    "playlist = tidal_client.get_playlist(\"c7bb7a15-c411-42ea-90c5-b7f24cf6471f\")"
   ]
  },
  {
   "cell_type": "code",
   "execution_count": 6,
   "id": "7d3c3933-e211-4123-9683-c2a2ad72a9f9",
   "metadata": {},
   "outputs": [
    {
     "name": "stdout",
     "output_type": "stream",
     "text": [
      "Poolamme Pilla (From \"HanuMan\") [Telugu] GowraHari\n",
      "Anjanadri Theme Song (From \"HanuMan\") [Telugu] GowraHari\n",
      "Raghunandana (From \"HanuMan\") [Telugu] GowraHari\n",
      "Avakaya Anjaneya (From \"HanuMan\") [Telugu] Sahithi Galidevara\n",
      "Happier Marshmello\n",
      "Sucker Jonas Brothers\n"
     ]
    }
   ],
   "source": [
    "for track in playlist.tracks[78:84]:\n",
    "    print( track.name, track.album_artist.name)"
   ]
  },
  {
   "cell_type": "code",
   "execution_count": 7,
   "id": "11e19c89-b0d9-4635-81e1-a1f2b7101b62",
   "metadata": {},
   "outputs": [],
   "source": [
    "av, aj = playlist.tracks[81], playlist.tracks[79]"
   ]
  },
  {
   "cell_type": "code",
   "execution_count": 8,
   "id": "e0a10dd2-b695-4cc1-80e3-40e019da1c94",
   "metadata": {},
   "outputs": [
    {
     "data": {
      "text/plain": [
       "371161718"
      ]
     },
     "execution_count": 8,
     "metadata": {},
     "output_type": "execute_result"
    }
   ],
   "source": [
    "aj._inner.album.id"
   ]
  },
  {
   "cell_type": "code",
   "execution_count": 9,
   "id": "44e20382-685e-42ad-8e91-9636c848b58d",
   "metadata": {},
   "outputs": [
    {
     "data": {
      "text/plain": [
       "371161718"
      ]
     },
     "execution_count": 9,
     "metadata": {},
     "output_type": "execute_result"
    }
   ],
   "source": [
    "av._inner.album.id"
   ]
  },
  {
   "cell_type": "code",
   "execution_count": 10,
   "id": "a4c2f7d7-111c-40f7-aeac-2ceaedb4eebd",
   "metadata": {},
   "outputs": [
    {
     "data": {
      "text/plain": [
       "[<tidalapi.artist.Artist at 0x11149f1b0>,\n",
       " <tidalapi.artist.Artist at 0x11149f250>]"
      ]
     },
     "execution_count": 10,
     "metadata": {},
     "output_type": "execute_result"
    }
   ],
   "source": [
    "av._inner.album.artists\n"
   ]
  },
  {
   "cell_type": "code",
   "execution_count": 11,
   "id": "0c850a27-30fb-4fa1-b1a9-2d33fc72a471",
   "metadata": {},
   "outputs": [
    {
     "data": {
      "text/plain": [
       "[<tidalapi.artist.Artist at 0x11149ec10>,\n",
       " <tidalapi.artist.Artist at 0x11149ecb0>,\n",
       " <tidalapi.artist.Artist at 0x11149ed50>]"
      ]
     },
     "execution_count": 11,
     "metadata": {},
     "output_type": "execute_result"
    }
   ],
   "source": [
    "aj._inner.album.artists"
   ]
  },
  {
   "cell_type": "code",
   "execution_count": 12,
   "id": "b2485041-3947-46b5-87d1-05111bbebe0a",
   "metadata": {},
   "outputs": [],
   "source": [
    "album = tidal_client.session.album(av._inner.album.id)"
   ]
  },
  {
   "cell_type": "code",
   "execution_count": 17,
   "id": "ae530af8-af58-4089-a4a3-ddd8b243f1ab",
   "metadata": {},
   "outputs": [
    {
     "data": {
      "text/plain": [
       "'LOSSLESS'"
      ]
     },
     "execution_count": 17,
     "metadata": {},
     "output_type": "execute_result"
    }
   ],
   "source": [
    "album."
   ]
  },
  {
   "cell_type": "code",
   "execution_count": 3,
   "id": "1bb1c348-bebd-437e-938f-bd172a84efbb",
   "metadata": {},
   "outputs": [
    {
     "data": {
      "text/plain": [
       "{'minor_version': ['0'], 'comment': ['downloaded from lucida.to: http://www.tidal.com/track/371161721'], 'copyright': ['2023 Tips Industries Ltd. under Exclusive License to Warner Music India'], 'lyricist': ['Simhachalam Mannela'], 'artist': ['Sahithi Galidevara; Anudeep Dev'], 'composer': ['Anudeep Dev'], 'title': ['Avakaya Anjaneya (From \"HanuMan\") [Telugu]'], 'tracknumber': ['3/7'], 'major_brand': ['iso8'], 'isrc': ['INT102305990'], 'discnumber': ['1/1'], 'encoder': ['Lavf58.76.100'], 'compatible_brands': ['mp41dash'], 'albumartist': ['GowraHari; Anudeep Dev; Krishna Saurabh Surampalli'], 'album': ['HanuMan (Original Motion Picture Soundtrack) [Telugu]'], 'date': ['2023-04-06']}"
      ]
     },
     "execution_count": 3,
     "metadata": {},
     "output_type": "execute_result"
    }
   ],
   "source": [
    "mutagen.File(\"/Users/akash/Downloads/Music/Tidal/Sahithi Galidevara/HanuMan (Original Motion Picture Soundtrack) [Telugu]/03 - Sahithi Galidevara, Anudeep Dev - Avakaya Anjaneya (From 'HanuMan') [Telugu].flac\")"
   ]
  },
  {
   "cell_type": "code",
   "execution_count": 20,
   "id": "4be0e610-d1bc-4c67-a16d-7e176ea653ae",
   "metadata": {},
   "outputs": [
    {
     "ename": "ObjectNotFound",
     "evalue": "",
     "output_type": "error",
     "traceback": [
      "\u001b[31m---------------------------------------------------------------------------\u001b[39m",
      "\u001b[31mHTTPError\u001b[39m                                 Traceback (most recent call last)",
      "\u001b[36mFile \u001b[39m\u001b[32m~/Documents/server/media-manager/.venv/lib/python3.13/site-packages/tidalapi/request.py:153\u001b[39m, in \u001b[36mRequests.request\u001b[39m\u001b[34m(self, method, path, params, data, headers, base_url)\u001b[39m\n\u001b[32m    152\u001b[39m \u001b[38;5;28;01mtry\u001b[39;00m:\n\u001b[32m--> \u001b[39m\u001b[32m153\u001b[39m     \u001b[43mrequest\u001b[49m\u001b[43m.\u001b[49m\u001b[43mraise_for_status\u001b[49m\u001b[43m(\u001b[49m\u001b[43m)\u001b[49m\n\u001b[32m    154\u001b[39m \u001b[38;5;28;01mexcept\u001b[39;00m \u001b[38;5;167;01mException\u001b[39;00m \u001b[38;5;28;01mas\u001b[39;00m e:\n",
      "\u001b[36mFile \u001b[39m\u001b[32m~/.cache/uv/archive-v0/awGYrtw5tPqZNESzXDHdY/lib/python3.13/site-packages/requests/models.py:1026\u001b[39m, in \u001b[36mResponse.raise_for_status\u001b[39m\u001b[34m(self)\u001b[39m\n\u001b[32m   1025\u001b[39m \u001b[38;5;28;01mif\u001b[39;00m http_error_msg:\n\u001b[32m-> \u001b[39m\u001b[32m1026\u001b[39m     \u001b[38;5;28;01mraise\u001b[39;00m HTTPError(http_error_msg, response=\u001b[38;5;28mself\u001b[39m)\n",
      "\u001b[31mHTTPError\u001b[39m: 404 Client Error: Not Found for url: https://api.tidal.com/v1/artists/28187199/bio?sessionId=201052c5-5e36-4797-b2fd-6329c525edca&countryCode=US&limit=1000",
      "\nDuring handling of the above exception, another exception occurred:\n",
      "\u001b[31mObjectNotFound\u001b[39m                            Traceback (most recent call last)",
      "\u001b[36mCell\u001b[39m\u001b[36m \u001b[39m\u001b[32mIn[20]\u001b[39m\u001b[32m, line 1\u001b[39m\n\u001b[32m----> \u001b[39m\u001b[32m1\u001b[39m \u001b[43mav\u001b[49m\u001b[43m.\u001b[49m\u001b[43m_inner\u001b[49m\u001b[43m.\u001b[49m\u001b[43martist\u001b[49m\u001b[43m.\u001b[49m\u001b[43mget_bio\u001b[49m\u001b[43m(\u001b[49m\u001b[43m)\u001b[49m\n",
      "\u001b[36mFile \u001b[39m\u001b[32m~/Documents/server/media-manager/.venv/lib/python3.13/site-packages/tidalapi/artist.py:216\u001b[39m, in \u001b[36mArtist.get_bio\u001b[39m\u001b[34m(self)\u001b[39m\n\u001b[32m    209\u001b[39m \u001b[38;5;28;01mdef\u001b[39;00m\u001b[38;5;250m \u001b[39m\u001b[34mget_bio\u001b[39m(\u001b[38;5;28mself\u001b[39m) -> \u001b[38;5;28mstr\u001b[39m:\n\u001b[32m    210\u001b[39m \u001b[38;5;250m    \u001b[39m\u001b[33;03m\"\"\"Queries TIDAL for the artists biography.\u001b[39;00m\n\u001b[32m    211\u001b[39m \n\u001b[32m    212\u001b[39m \u001b[33;03m    :return: A string containing the bio, as well as identifiers to other TIDAL\u001b[39;00m\n\u001b[32m    213\u001b[39m \u001b[33;03m        objects inside the bio.\u001b[39;00m\n\u001b[32m    214\u001b[39m \u001b[33;03m    \"\"\"\u001b[39;00m\n\u001b[32m    215\u001b[39m     \u001b[38;5;28;01mreturn\u001b[39;00m cast(\n\u001b[32m--> \u001b[39m\u001b[32m216\u001b[39m         \u001b[38;5;28mstr\u001b[39m, \u001b[38;5;28;43mself\u001b[39;49m\u001b[43m.\u001b[49m\u001b[43mrequest\u001b[49m\u001b[43m.\u001b[49m\u001b[43mrequest\u001b[49m\u001b[43m(\u001b[49m\u001b[33;43m\"\u001b[39;49m\u001b[33;43mGET\u001b[39;49m\u001b[33;43m\"\u001b[39;49m\u001b[43m,\u001b[49m\u001b[43m \u001b[49m\u001b[33;43mf\u001b[39;49m\u001b[33;43m\"\u001b[39;49m\u001b[33;43martists/\u001b[39;49m\u001b[38;5;132;43;01m{\u001b[39;49;00m\u001b[38;5;28;43mself\u001b[39;49m\u001b[43m.\u001b[49m\u001b[43mid\u001b[49m\u001b[38;5;132;43;01m}\u001b[39;49;00m\u001b[33;43m/bio\u001b[39;49m\u001b[33;43m\"\u001b[39;49m\u001b[43m)\u001b[49m.json()[\u001b[33m\"\u001b[39m\u001b[33mtext\u001b[39m\u001b[33m\"\u001b[39m]\n\u001b[32m    217\u001b[39m     )\n",
      "\u001b[36mFile \u001b[39m\u001b[32m~/Documents/server/media-manager/.venv/lib/python3.13/site-packages/tidalapi/request.py:168\u001b[39m, in \u001b[36mRequests.request\u001b[39m\u001b[34m(self, method, path, params, data, headers, base_url)\u001b[39m\n\u001b[32m    165\u001b[39m         log.debug(\u001b[33m\"\u001b[39m\u001b[33mRequest response: \u001b[39m\u001b[33m'\u001b[39m\u001b[38;5;132;01m%s\u001b[39;00m\u001b[33m'\u001b[39m\u001b[33m\"\u001b[39m, json.dumps(resp))\n\u001b[32m    167\u001b[39m \u001b[38;5;28;01mif\u001b[39;00m request.status_code \u001b[38;5;129;01mand\u001b[39;00m request.status_code == \u001b[32m404\u001b[39m:\n\u001b[32m--> \u001b[39m\u001b[32m168\u001b[39m     \u001b[38;5;28;01mraise\u001b[39;00m ObjectNotFound\n\u001b[32m    169\u001b[39m \u001b[38;5;28;01melif\u001b[39;00m request.status_code \u001b[38;5;129;01mand\u001b[39;00m request.status_code == \u001b[32m429\u001b[39m:\n\u001b[32m    170\u001b[39m     \u001b[38;5;28;01mraise\u001b[39;00m TooManyRequests\n",
      "\u001b[31mObjectNotFound\u001b[39m: "
     ]
    }
   ],
   "source": [
    "av._inner.artist.get_bio()"
   ]
  },
  {
   "cell_type": "code",
   "execution_count": null,
   "id": "e0117294-91ab-4070-8c84-5c7bb6dfc4fa",
   "metadata": {},
   "outputs": [],
   "source": []
  },
  {
   "cell_type": "code",
   "execution_count": null,
   "id": "ff35329e-d438-4521-a630-4262d0db630c",
   "metadata": {},
   "outputs": [],
   "source": []
  }
 ],
 "metadata": {
  "kernelspec": {
   "display_name": "Python 3 (ipykernel)",
   "language": "python",
   "name": "python3"
  },
  "language_info": {
   "codemirror_mode": {
    "name": "ipython",
    "version": 3
   },
   "file_extension": ".py",
   "mimetype": "text/x-python",
   "name": "python",
   "nbconvert_exporter": "python",
   "pygments_lexer": "ipython3",
   "version": "3.13.7"
  }
 },
 "nbformat": 4,
 "nbformat_minor": 5
}
